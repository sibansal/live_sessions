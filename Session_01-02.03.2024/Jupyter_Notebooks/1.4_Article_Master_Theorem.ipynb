{
 "cells": [
  {
   "cell_type": "markdown",
   "id": "6eca1687",
   "metadata": {},
   "source": [
    "### Master's Theorem Explained\n",
    "\n",
    "The Master's Theorem is a powerful tool used for analyzing the time complexity of divide-and-conquer algorithms. It provides a straightforward way to determine the time complexity of recursive algorithms based on their recurrence relations.\n",
    "\n",
    "The Master's Theorem states that if a recursive algorithm divides a problem of size **n** into **a** subproblems, each of size **n/b**, and the work done in dividing and merging the subproblems is **f(n)**, then the time complexity of the algorithm can be expressed as follows: \n",
    "\n",
    "$$T(n) = aT(n/b) + f(n)$$\n",
    "\n",
    "where:\n",
    "- **a**: the number of subproblems generated in each recursive call.\n",
    "- **b**: the factor by which the problem size is reduced in each recursive call.\n",
    "- **f(n)**: the cost of dividing and merging the subproblems.\n",
    "\n",
    "The theorem provides three cases based on the assumption: $ f(n) = n^{log_b(a)}$\n",
    "\n",
    "1. **Case 1**: If **f(n) = $O(n^{log_b(a-\\epsilon)})$** for some constant $\\epsilon$ > 0, then **$T(n) = \\theta(n^{log_b(a)})$**.\n",
    "2. **Case 2**: If **f(n) = $\\Theta(n^{log_b(a)})$**, then **T(n) = $\\Theta(n^{log_b(a)} * log n)$**.\n",
    "3. **Case 3**: If **f(n) = $\\Omega(n^{log_b(a+\\epsilon)})$** for some constant $\\epsilon$ > 0, and if **a * f(n/b) ≤ c * f(n)** for some constant c < 1 and sufficiently large n, then **$T(n) = \\theta(f(n))$**."
   ]
  },
  {
   "cell_type": "markdown",
   "id": "caecfdb6",
   "metadata": {},
   "source": [
    "### Examples for Master's Theorem\n",
    "\n",
    "#### Case 1:\n",
    "\n",
    "Consider the recurrence relation:\n",
    "\n",
    "$$ T(n) = 9T(n/3) + n^2 $$\n",
    "\n",
    "Here, $ a = 9 $, $ b = 3 $, and $ f(n) = n^2 $.\n",
    "\n",
    "$$ n^{\\log_b(a)} = n^{\\log_3(9)} = n^2 $$\n",
    "\n",
    "Comparing $ f(n) $ with $ n^{\\log_b(a)} $, we have $ f(n) = \\Theta(n^2) $.\n",
    "\n",
    "So, $ T(n) = \\Theta(n^2) $.\n",
    "\n",
    "#### Case 2:\n",
    "\n",
    "Consider the recurrence relation:\n",
    "\n",
    "$$ T(n) = 2T(n/2) + n\\log n $$\n",
    "\n",
    "Here, $ a = 2 $, $ b = 2 $, and $ f(n) = n\\log n $.\n",
    "\n",
    "$$ n^{\\log_b(a)} = n^{\\log_2(2)} = n $$\n",
    "\n",
    "Comparing $ f(n) $ with $ n^{\\log_b(a)} $, we have $ f(n) = \\Theta(n\\log n) $.\n",
    "\n",
    "So, $ T(n) = \\Theta(n\\log n \\cdot \\log n) = \\Theta(n\\log^2 n) $.\n",
    "\n",
    "#### Case 3:\n",
    "\n",
    "Consider the recurrence relation:\n",
    "\n",
    "$$ T(n) = 3T(n/2) + n^{\\frac{3}{2}} $$\n",
    "\n",
    "Here, $ a = 3 $, $ b = 2 $, and $ f(n) = n^{3/2} $.\n",
    "\n",
    "$$ n^{\\log_b(a)} = n^{\\log_2(3)} \\approx n^{1.585} $$\n",
    "\n",
    "Comparing $ f(n) $ with $ n^{\\log_b(a)} $, we have $ f(n) = \\Omega(n^{1.585 + \\epsilon}) $ for $ \\epsilon > 0 $.\n",
    "\n",
    "Also, $ a \\cdot f(n/b) = 3 \\cdot (n/2)^{3/2} = \\frac{3}{2}n^{3/2} \\leq c \\cdot n^{3/2} $ for $ c = \\frac{3}{2} $ and sufficiently large $ n $.\n",
    "\n",
    "So, $ T(n) = \\Theta(n^{3/2}) $.\n",
    "\n",
    "These examples illustrate all three cases of the Master's Theorem.\n"
   ]
  }
 ],
 "metadata": {
  "kernelspec": {
   "display_name": "Python 3 (ipykernel)",
   "language": "python",
   "name": "python3"
  },
  "language_info": {
   "codemirror_mode": {
    "name": "ipython",
    "version": 3
   },
   "file_extension": ".py",
   "mimetype": "text/x-python",
   "name": "python",
   "nbconvert_exporter": "python",
   "pygments_lexer": "ipython3",
   "version": "3.11.5"
  }
 },
 "nbformat": 4,
 "nbformat_minor": 5
}
