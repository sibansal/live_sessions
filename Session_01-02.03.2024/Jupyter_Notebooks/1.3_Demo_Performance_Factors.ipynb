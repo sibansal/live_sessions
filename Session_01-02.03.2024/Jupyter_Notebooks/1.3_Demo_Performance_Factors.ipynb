{
 "cells": [
  {
   "cell_type": "markdown",
   "id": "c1bdc8fc",
   "metadata": {},
   "source": [
    "# Time complexity optimization\n",
    "**Linear search vs. Binary search**"
   ]
  },
  {
   "cell_type": "code",
   "execution_count": null,
   "id": "9c58f6d1",
   "metadata": {},
   "outputs": [],
   "source": [
    "def linear_search(arr, target):\n",
    "    for i in range(len(arr)):\n",
    "        if arr[i] == target:\n",
    "            return i\n",
    "    return -1"
   ]
  },
  {
   "cell_type": "code",
   "execution_count": null,
   "id": "6a0301ca",
   "metadata": {},
   "outputs": [],
   "source": [
    "def binary_search(arr, target):\n",
    "    left, right = 0, len(arr) - 1\n",
    "    while left <= right:\n",
    "        mid = (left + right) // 2\n",
    "        if arr[mid] == target:\n",
    "            return mid\n",
    "        elif arr[mid] < target:\n",
    "            left = mid + 1\n",
    "        else:\n",
    "            right = mid - 1\n",
    "    return -1"
   ]
  },
  {
   "cell_type": "markdown",
   "id": "dab1adf2",
   "metadata": {},
   "source": [
    "# Space complexity optimization\n",
    "**Storing all Fibonacci numbers vs. Storing only the last two Fibonacci numbers**"
   ]
  },
  {
   "cell_type": "code",
   "execution_count": null,
   "id": "4831c439",
   "metadata": {},
   "outputs": [],
   "source": [
    "def fibonacci(n):\n",
    "    fib = [0, 1]\n",
    "    for i in range(2, n+1):\n",
    "        fib.append(fib[i-1] + fib[i-2])\n",
    "    return fib[n]"
   ]
  },
  {
   "cell_type": "code",
   "execution_count": null,
   "id": "9a450ded",
   "metadata": {},
   "outputs": [],
   "source": [
    "def fibonacci_optimized(n):\n",
    "    if n <= 1:\n",
    "        return n\n",
    "    a, b = 0, 1\n",
    "    for _ in range(2, n+1):\n",
    "        a, b = b, a + b\n",
    "    return b"
   ]
  },
  {
   "cell_type": "markdown",
   "id": "a9843087",
   "metadata": {},
   "source": [
    "# Choice of data structures\n",
    "**Using a list for a queue vs. Using collections.deque for a queue**"
   ]
  },
  {
   "cell_type": "code",
   "execution_count": null,
   "id": "8769aea4",
   "metadata": {},
   "outputs": [],
   "source": [
    "queue = []\n",
    "\n",
    "# Enqueue\n",
    "queue.append(item)\n",
    "\n",
    "# Dequeue\n",
    "item = queue.pop(0)"
   ]
  },
  {
   "cell_type": "code",
   "execution_count": null,
   "id": "7804f617",
   "metadata": {},
   "outputs": [],
   "source": [
    "from collections import deque\n",
    "\n",
    "queue = deque()\n",
    "\n",
    "# Enqueue\n",
    "queue.append(item)\n",
    "\n",
    "# Dequeue\n",
    "item = queue.popleft()"
   ]
  },
  {
   "cell_type": "markdown",
   "id": "580a44b6",
   "metadata": {},
   "source": [
    "# Algorithm design paradigm\n",
    "**BFS vs DFS for Maze Solving Problem**"
   ]
  },
  {
   "cell_type": "code",
   "execution_count": null,
   "id": "5070d073",
   "metadata": {},
   "outputs": [],
   "source": [
    "def bfs(graph, start):\n",
    "    visited = set()\n",
    "    queue = deque([start])\n",
    "    visited.add(start)\n",
    "    \n",
    "    while queue:\n",
    "        vertex = queue.popleft()\n",
    "        print(vertex, end=\" \")\n",
    "        \n",
    "        for neighbor in graph[vertex]:\n",
    "            if neighbor not in visited:\n",
    "                visited.add(neighbor)\n",
    "                queue.append(neighbor)"
   ]
  },
  {
   "cell_type": "code",
   "execution_count": null,
   "id": "03faa054",
   "metadata": {},
   "outputs": [],
   "source": [
    "def dfs(graph, start, visited=None):\n",
    "    if visited is None:\n",
    "        visited = set()\n",
    "    visited.add(start)\n",
    "    print(start, end=\" \")\n",
    "    \n",
    "    for neighbor in graph[start]:\n",
    "        if neighbor not in visited:\n",
    "            dfs(graph, neighbor, visited)"
   ]
  },
  {
   "cell_type": "markdown",
   "id": "246a7ae4",
   "metadata": {},
   "source": [
    "# Characteristics of input data\n",
    "**Sorting a nearly sorted list using a general-purpose sorting algorithm vs. Using insertion sort for nearly sorted data**"
   ]
  },
  {
   "cell_type": "code",
   "execution_count": null,
   "id": "a53fb702",
   "metadata": {},
   "outputs": [],
   "source": [
    "def sort_nearly_sorted(arr):\n",
    "    return sorted(arr)"
   ]
  },
  {
   "cell_type": "code",
   "execution_count": null,
   "id": "deb0eb8f",
   "metadata": {},
   "outputs": [],
   "source": [
    "def insertion_sort(arr):\n",
    "    for i in range(1, len(arr)):\n",
    "        key = arr[i]\n",
    "        j = i - 1\n",
    "        while j >= 0 and key < arr[j]:\n",
    "            arr[j + 1] = arr[j]\n",
    "            j -= 1\n",
    "        arr[j + 1] = key\n",
    "    return arr"
   ]
  },
  {
   "cell_type": "markdown",
   "id": "3b2af395",
   "metadata": {},
   "source": [
    "# Hardware and environment\n",
    "**Not considering cache locality while accessing data vs. Utilizing cache-friendly access patterns**"
   ]
  },
  {
   "cell_type": "code",
   "execution_count": null,
   "id": "c0ef1560",
   "metadata": {},
   "outputs": [],
   "source": [
    "def process_data(matrix):\n",
    "    total = 0\n",
    "    for row in matrix:\n",
    "        for val in row:\n",
    "            total += val\n",
    "    return total"
   ]
  },
  {
   "cell_type": "code",
   "execution_count": null,
   "id": "5cc77be9",
   "metadata": {},
   "outputs": [],
   "source": [
    "def process_data(matrix):\n",
    "    total = 0\n",
    "    rows = len(matrix)\n",
    "    cols = len(matrix[0])\n",
    "    for j in range(cols):\n",
    "        for i in range(rows):\n",
    "            total += matrix[i][j]\n",
    "    return total"
   ]
  },
  {
   "cell_type": "markdown",
   "id": "802e4d4a",
   "metadata": {},
   "source": [
    "# Optimizations and heuristics\n",
    "**Trade off readibility for performance**"
   ]
  },
  {
   "cell_type": "code",
   "execution_count": null,
   "id": "f54a79ff",
   "metadata": {},
   "outputs": [],
   "source": [
    "def square_and_filter(arr):\n",
    "    result = []\n",
    "    for num in arr:\n",
    "        square = num ** 2\n",
    "        if square % 2 == 0:\n",
    "            result.append(square)\n",
    "    return result"
   ]
  },
  {
   "cell_type": "code",
   "execution_count": null,
   "id": "e26a60f9",
   "metadata": {},
   "outputs": [],
   "source": [
    "def square_and_filter_optimized(arr):\n",
    "    return [num ** 2 for num in arr if (num ** 2) % 2 == 0]"
   ]
  },
  {
   "cell_type": "markdown",
   "id": "23689788",
   "metadata": {},
   "source": [
    "# Implementation details"
   ]
  },
  {
   "cell_type": "code",
   "execution_count": null,
   "id": "a50612c9",
   "metadata": {},
   "outputs": [],
   "source": [
    "def remove_duplicates_and_sort_bruteforce(nums):\n",
    "    unique_nums = []\n",
    "    for num in nums:\n",
    "        if num not in unique_nums:\n",
    "            unique_nums.append(num)\n",
    "    unique_nums.sort()\n",
    "    return unique_nums"
   ]
  },
  {
   "cell_type": "code",
   "execution_count": null,
   "id": "8bf655df",
   "metadata": {},
   "outputs": [],
   "source": [
    "def remove_duplicates_and_sort(nums):\n",
    "    unique_nums = set(nums)\n",
    "    sorted_unique_nums = sorted(unique_nums)\n",
    "    return sorted_unique_nums"
   ]
  },
  {
   "cell_type": "markdown",
   "id": "b9bf3afe",
   "metadata": {},
   "source": [
    "# External dependencies\n",
    "**Implementing your own graph algorithms vs. Utilizing networkx library for graph algorithms**"
   ]
  },
  {
   "cell_type": "code",
   "execution_count": null,
   "id": "c3441232",
   "metadata": {},
   "outputs": [],
   "source": [
    "class Graph:\n",
    "    def __init__(self, vertices):\n",
    "        self.V = vertices\n",
    "        self.graph = defaultdict(list)\n",
    "    ..."
   ]
  },
  {
   "cell_type": "code",
   "execution_count": null,
   "id": "7c7c626d",
   "metadata": {},
   "outputs": [],
   "source": [
    "import networkx as nx\n",
    "\n",
    "G = nx.Graph()"
   ]
  },
  {
   "cell_type": "markdown",
   "id": "42da7062",
   "metadata": {},
   "source": [
    "# Randomness and non-determinism\n",
    "**Using random.choice without seeding vs. Seeding random number generator for reproducibility**"
   ]
  },
  {
   "cell_type": "code",
   "execution_count": null,
   "id": "b2916ae7",
   "metadata": {},
   "outputs": [],
   "source": [
    "import random\n",
    "\n",
    "def choose_random_element(arr):\n",
    "    return random.choice(arr)"
   ]
  },
  {
   "cell_type": "code",
   "execution_count": null,
   "id": "f9fd7dd7",
   "metadata": {},
   "outputs": [],
   "source": [
    "import random\n",
    "\n",
    "def choose_random_element(arr, seed=None):\n",
    "    random.seed(seed)\n",
    "    return random.choice(arr)"
   ]
  }
 ],
 "metadata": {
  "kernelspec": {
   "display_name": "Python 3 (ipykernel)",
   "language": "python",
   "name": "python3"
  },
  "language_info": {
   "codemirror_mode": {
    "name": "ipython",
    "version": 3
   },
   "file_extension": ".py",
   "mimetype": "text/x-python",
   "name": "python",
   "nbconvert_exporter": "python",
   "pygments_lexer": "ipython3",
   "version": "3.11.5"
  }
 },
 "nbformat": 4,
 "nbformat_minor": 5
}
