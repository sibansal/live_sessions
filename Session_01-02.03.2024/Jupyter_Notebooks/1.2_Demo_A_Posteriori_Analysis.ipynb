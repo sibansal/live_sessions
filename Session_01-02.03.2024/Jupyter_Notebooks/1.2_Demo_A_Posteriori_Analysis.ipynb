{
 "cells": [
  {
   "cell_type": "markdown",
   "id": "1b81b56b",
   "metadata": {},
   "source": [
    "# Aposteri Analysis Examples"
   ]
  },
  {
   "cell_type": "markdown",
   "id": "9adad668",
   "metadata": {},
   "source": [
    "## Inefficient Loops"
   ]
  },
  {
   "cell_type": "markdown",
   "id": "b331ba14",
   "metadata": {},
   "source": [
    "### Wrong\n"
   ]
  },
  {
   "cell_type": "code",
   "execution_count": 1,
   "id": "c9c52209",
   "metadata": {},
   "outputs": [
    {
     "name": "stdout",
     "output_type": "stream",
     "text": [
      "15\n"
     ]
    }
   ],
   "source": [
    "def calculate_sum(numbers):\n",
    "    total = 0\n",
    "    for i in range(len(numbers)):\n",
    "        total += numbers[i]\n",
    "    return total\n",
    "\n",
    "numbers = [1, 2, 3, 4, 5]\n",
    "print(calculate_sum(numbers))"
   ]
  },
  {
   "cell_type": "markdown",
   "id": "04bbea3b",
   "metadata": {},
   "source": [
    "### Right"
   ]
  },
  {
   "cell_type": "code",
   "execution_count": 2,
   "id": "853a558e",
   "metadata": {},
   "outputs": [
    {
     "name": "stdout",
     "output_type": "stream",
     "text": [
      "15\n"
     ]
    }
   ],
   "source": [
    "def calculate_sum_optimized(numbers):\n",
    "    return sum(numbers)\n",
    "\n",
    "numbers = [1, 2, 3, 4, 5]\n",
    "print(calculate_sum(numbers))"
   ]
  },
  {
   "cell_type": "markdown",
   "id": "d3c21838",
   "metadata": {},
   "source": [
    "## Redundant calculations"
   ]
  },
  {
   "cell_type": "markdown",
   "id": "32a7a9b0",
   "metadata": {},
   "source": [
    "### Wrong"
   ]
  },
  {
   "cell_type": "code",
   "execution_count": 3,
   "id": "4d96ed74",
   "metadata": {},
   "outputs": [
    {
     "name": "stdout",
     "output_type": "stream",
     "text": [
      "1\n",
      "2\n",
      "3\n",
      "4\n",
      "5\n"
     ]
    }
   ],
   "source": [
    "def print_list(numbers):\n",
    "    for i in range(len(numbers)):\n",
    "        print(numbers[i])\n",
    "\n",
    "numbers = [1, 2, 3, 4, 5]\n",
    "print_list(numbers)"
   ]
  },
  {
   "cell_type": "markdown",
   "id": "34a0e6a0",
   "metadata": {},
   "source": [
    "### Right"
   ]
  },
  {
   "cell_type": "code",
   "execution_count": 4,
   "id": "86fc5291",
   "metadata": {},
   "outputs": [
    {
     "name": "stdout",
     "output_type": "stream",
     "text": [
      "1\n",
      "2\n",
      "3\n",
      "4\n",
      "5\n"
     ]
    }
   ],
   "source": [
    "def print_list_optimized(numbers):\n",
    "    length = len(numbers)\n",
    "    for i in range(length):\n",
    "        print(numbers[i])\n",
    "\n",
    "numbers = [1, 2, 3, 4, 5]\n",
    "print_list(numbers)"
   ]
  },
  {
   "cell_type": "markdown",
   "id": "6d0f6157",
   "metadata": {},
   "source": [
    "## Excessive memory usage"
   ]
  },
  {
   "cell_type": "markdown",
   "id": "d23b4e77",
   "metadata": {},
   "source": [
    "### Wrong"
   ]
  },
  {
   "cell_type": "code",
   "execution_count": 5,
   "id": "9bd1130c",
   "metadata": {},
   "outputs": [
    {
     "name": "stdout",
     "output_type": "stream",
     "text": [
      "[0, 1, 1, 2, 3, 5, 8, 13, 21, 34]\n"
     ]
    }
   ],
   "source": [
    "def generate_fibonacci_sequence(n):\n",
    "    fibonacci_sequence = [0, 1]\n",
    "    for i in range(2, n):\n",
    "        next_fibonacci = fibonacci_sequence[-1] + fibonacci_sequence[-2]\n",
    "        fibonacci_sequence.append(next_fibonacci)\n",
    "    return fibonacci_sequence\n",
    "\n",
    "print(generate_fibonacci_sequence(10))"
   ]
  },
  {
   "cell_type": "markdown",
   "id": "1a8af6b9",
   "metadata": {},
   "source": [
    "### Right"
   ]
  },
  {
   "cell_type": "code",
   "execution_count": 6,
   "id": "797a2572",
   "metadata": {},
   "outputs": [
    {
     "name": "stdout",
     "output_type": "stream",
     "text": [
      "[0, 1, 1, 2, 3, 5, 8, 13, 21, 34]\n"
     ]
    }
   ],
   "source": [
    "def generate_fibonacci_sequence_optimized(n):\n",
    "    fibonacci_sequence = [0, 1]\n",
    "    a, b = 0, 1\n",
    "    for i in range(2, n):\n",
    "        a, b = b, a + b\n",
    "        fibonacci_sequence.append(b)\n",
    "    return fibonacci_sequence\n",
    "\n",
    "print(generate_fibonacci_sequence(10))"
   ]
  },
  {
   "cell_type": "markdown",
   "id": "f3086dca",
   "metadata": {},
   "source": [
    "# Profiling"
   ]
  },
  {
   "cell_type": "code",
   "execution_count": 7,
   "id": "b2c6cf1c",
   "metadata": {},
   "outputs": [
    {
     "name": "stdout",
     "output_type": "stream",
     "text": [
      "         5 function calls in 0.000 seconds\n",
      "\n",
      "   Ordered by: standard name\n",
      "\n",
      "   ncalls  tottime  percall  cumtime  percall filename:lineno(function)\n",
      "        1    0.000    0.000    0.000    0.000 2152281409.py:1(calculate_sum)\n",
      "        1    0.000    0.000    0.000    0.000 <string>:1(<module>)\n",
      "        1    0.000    0.000    0.000    0.000 {built-in method builtins.exec}\n",
      "        1    0.000    0.000    0.000    0.000 {built-in method builtins.len}\n",
      "        1    0.000    0.000    0.000    0.000 {method 'disable' of '_lsprof.Profiler' objects}\n",
      "\n",
      "\n",
      "         5 function calls in 0.000 seconds\n",
      "\n",
      "   Ordered by: standard name\n",
      "\n",
      "   ncalls  tottime  percall  cumtime  percall filename:lineno(function)\n",
      "        1    0.000    0.000    0.000    0.000 4211181220.py:1(calculate_sum_optimized)\n",
      "        1    0.000    0.000    0.000    0.000 <string>:1(<module>)\n",
      "        1    0.000    0.000    0.000    0.000 {built-in method builtins.exec}\n",
      "        1    0.000    0.000    0.000    0.000 {built-in method builtins.sum}\n",
      "        1    0.000    0.000    0.000    0.000 {method 'disable' of '_lsprof.Profiler' objects}\n",
      "\n",
      "\n",
      "1\n",
      "2\n",
      "3\n",
      "4\n",
      "5\n",
      "         90 function calls in 0.000 seconds\n",
      "\n",
      "   Ordered by: standard name\n",
      "\n",
      "   ncalls  tottime  percall  cumtime  percall filename:lineno(function)\n",
      "        1    0.000    0.000    0.000    0.000 1840997258.py:1(print_list)\n",
      "        1    0.000    0.000    0.000    0.000 <string>:1(<module>)\n",
      "       10    0.000    0.000    0.000    0.000 iostream.py:505(_is_master_process)\n",
      "       10    0.000    0.000    0.000    0.000 iostream.py:532(_schedule_flush)\n",
      "       10    0.000    0.000    0.000    0.000 iostream.py:610(write)\n",
      "        1    0.000    0.000    0.000    0.000 {built-in method builtins.exec}\n",
      "       10    0.000    0.000    0.000    0.000 {built-in method builtins.isinstance}\n",
      "       11    0.000    0.000    0.000    0.000 {built-in method builtins.len}\n",
      "        5    0.000    0.000    0.000    0.000 {built-in method builtins.print}\n",
      "       10    0.000    0.000    0.000    0.000 {built-in method nt.getpid}\n",
      "       10    0.000    0.000    0.000    0.000 {method '__exit__' of '_thread.RLock' objects}\n",
      "        1    0.000    0.000    0.000    0.000 {method 'disable' of '_lsprof.Profiler' objects}\n",
      "       10    0.000    0.000    0.000    0.000 {method 'write' of '_io.StringIO' objects}\n",
      "\n",
      "\n",
      "1\n",
      "2\n",
      "3\n",
      "4\n",
      "5\n",
      "         90 function calls in 0.000 seconds\n",
      "\n",
      "   Ordered by: standard name\n",
      "\n",
      "   ncalls  tottime  percall  cumtime  percall filename:lineno(function)\n",
      "        1    0.000    0.000    0.000    0.000 1729252488.py:1(print_list_optimized)\n",
      "        1    0.000    0.000    0.000    0.000 <string>:1(<module>)\n",
      "       10    0.000    0.000    0.000    0.000 iostream.py:505(_is_master_process)\n",
      "       10    0.000    0.000    0.000    0.000 iostream.py:532(_schedule_flush)\n",
      "       10    0.000    0.000    0.000    0.000 iostream.py:610(write)\n",
      "        1    0.000    0.000    0.000    0.000 {built-in method builtins.exec}\n",
      "       10    0.000    0.000    0.000    0.000 {built-in method builtins.isinstance}\n",
      "       11    0.000    0.000    0.000    0.000 {built-in method builtins.len}\n",
      "        5    0.000    0.000    0.000    0.000 {built-in method builtins.print}\n",
      "       10    0.000    0.000    0.000    0.000 {built-in method nt.getpid}\n",
      "       10    0.000    0.000    0.000    0.000 {method '__exit__' of '_thread.RLock' objects}\n",
      "        1    0.000    0.000    0.000    0.000 {method 'disable' of '_lsprof.Profiler' objects}\n",
      "       10    0.000    0.000    0.000    0.000 {method 'write' of '_io.StringIO' objects}\n",
      "\n",
      "\n",
      "         12 function calls in 0.000 seconds\n",
      "\n",
      "   Ordered by: standard name\n",
      "\n",
      "   ncalls  tottime  percall  cumtime  percall filename:lineno(function)\n",
      "        1    0.000    0.000    0.000    0.000 3608361972.py:1(generate_fibonacci_sequence)\n",
      "        1    0.000    0.000    0.000    0.000 <string>:1(<module>)\n",
      "        1    0.000    0.000    0.000    0.000 {built-in method builtins.exec}\n",
      "        8    0.000    0.000    0.000    0.000 {method 'append' of 'list' objects}\n",
      "        1    0.000    0.000    0.000    0.000 {method 'disable' of '_lsprof.Profiler' objects}\n",
      "\n",
      "\n",
      "         12 function calls in 0.000 seconds\n",
      "\n",
      "   Ordered by: standard name\n",
      "\n",
      "   ncalls  tottime  percall  cumtime  percall filename:lineno(function)\n",
      "        1    0.000    0.000    0.000    0.000 2286609454.py:1(generate_fibonacci_sequence_optimized)\n",
      "        1    0.000    0.000    0.000    0.000 <string>:1(<module>)\n",
      "        1    0.000    0.000    0.000    0.000 {built-in method builtins.exec}\n",
      "        8    0.000    0.000    0.000    0.000 {method 'append' of 'list' objects}\n",
      "        1    0.000    0.000    0.000    0.000 {method 'disable' of '_lsprof.Profiler' objects}\n",
      "\n",
      "\n"
     ]
    }
   ],
   "source": [
    "import time\n",
    "import cProfile\n",
    "\n",
    "def profile_example():\n",
    "    numbers = list(range(5))\n",
    "    print = None\n",
    "    cProfile.run('calculate_sum(numbers)')\n",
    "    cProfile.run('calculate_sum_optimized(numbers)')\n",
    "    cProfile.run('print_list(numbers)')\n",
    "    cProfile.run('print_list_optimized(numbers)')\n",
    "    cProfile.run('generate_fibonacci_sequence(10)')\n",
    "    cProfile.run('generate_fibonacci_sequence_optimized(10)')\n",
    "\n",
    "profile_example()"
   ]
  },
  {
   "cell_type": "markdown",
   "id": "f3bdbfe7",
   "metadata": {},
   "source": [
    "# Benchmarking"
   ]
  },
  {
   "cell_type": "code",
   "execution_count": 9,
   "id": "1fb17ac5",
   "metadata": {},
   "outputs": [
    {
     "name": "stdout",
     "output_type": "stream",
     "text": [
      "calculate_sum execution time: 0.0\n",
      "calculate_sum_optimized execution time: 0.0\n",
      "0\n",
      "1\n",
      "2\n",
      "3\n",
      "4\n",
      "print_list execution time: 0.0\n",
      "0\n",
      "1\n",
      "2\n",
      "3\n",
      "4\n",
      "print_list_optimized execution time: 0.0\n",
      "generate_fibonacci_sequence execution time: 0.0\n",
      "generate_fibonacci_sequence_optimized execution time: 0.0\n"
     ]
    }
   ],
   "source": [
    "def benchmark_example():\n",
    "    numbers = list(range(5))\n",
    "\n",
    "    start_time = time.time()\n",
    "    calculate_sum(numbers)\n",
    "    print(\"calculate_sum execution time:\", time.time() - start_time)\n",
    "\n",
    "    start_time = time.time()\n",
    "    calculate_sum_optimized(numbers)\n",
    "    print(\"calculate_sum_optimized execution time:\", time.time() - start_time)\n",
    "\n",
    "    start_time = time.time()\n",
    "    print_list(numbers)\n",
    "    print(\"print_list execution time:\", time.time() - start_time)\n",
    "\n",
    "    start_time = time.time()\n",
    "    print_list_optimized(numbers)\n",
    "    print(\"print_list_optimized execution time:\", time.time() - start_time)\n",
    "\n",
    "    start_time = time.time()\n",
    "    generate_fibonacci_sequence(10)\n",
    "    print(\"generate_fibonacci_sequence execution time:\", time.time() - start_time)\n",
    "\n",
    "    start_time = time.time()\n",
    "    generate_fibonacci_sequence_optimized(10)\n",
    "    print(\"generate_fibonacci_sequence_optimized execution time:\", time.time() - start_time)\n",
    "\n",
    "\n",
    "benchmark_example()"
   ]
  },
  {
   "cell_type": "code",
   "execution_count": null,
   "id": "1debbe53",
   "metadata": {},
   "outputs": [],
   "source": []
  }
 ],
 "metadata": {
  "kernelspec": {
   "display_name": "Python 3 (ipykernel)",
   "language": "python",
   "name": "python3"
  },
  "language_info": {
   "codemirror_mode": {
    "name": "ipython",
    "version": 3
   },
   "file_extension": ".py",
   "mimetype": "text/x-python",
   "name": "python",
   "nbconvert_exporter": "python",
   "pygments_lexer": "ipython3",
   "version": "3.11.5"
  }
 },
 "nbformat": 4,
 "nbformat_minor": 5
}
